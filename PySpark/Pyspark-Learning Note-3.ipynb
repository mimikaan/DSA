{
 "cells": [
  {
   "cell_type": "code",
   "execution_count": 2,
   "id": "5b1c02ea",
   "metadata": {},
   "outputs": [],
   "source": [
    "from pyspark.sql import SparkSession\n",
    "spark = SparkSession.builder.appName('Parctice').getOrCreate()"
   ]
  },
  {
   "cell_type": "code",
   "execution_count": 3,
   "id": "77a63d54",
   "metadata": {},
   "outputs": [],
   "source": [
    "DF1 = spark.read.csv('test2.csv',header=True,inferSchema = True)"
   ]
  },
  {
   "cell_type": "code",
   "execution_count": 5,
   "id": "b7d2ce45",
   "metadata": {},
   "outputs": [
    {
     "name": "stdout",
     "output_type": "stream",
     "text": [
      "+---------+----+----------+------+\n",
      "|     Name| Age|Experience|Salary|\n",
      "+---------+----+----------+------+\n",
      "|    Krish|  31|        10| 70000|\n",
      "|Sudhansgu|  30|        22| 30050|\n",
      "|   Pritom|  28|        12| 90000|\n",
      "|     Juna|  25|        31| 60000|\n",
      "|   Pritty|  22|        21| 70000|\n",
      "|   Sanjoy|  60|        21| 50000|\n",
      "|   Monika|null|      null| 10000|\n",
      "|     null|  24|        10| 35000|\n",
      "|     null|  23|      null|  null|\n",
      "+---------+----+----------+------+\n",
      "\n"
     ]
    }
   ],
   "source": [
    "DF1.show()"
   ]
  },
  {
   "cell_type": "code",
   "execution_count": 6,
   "id": "57cd59e6",
   "metadata": {},
   "outputs": [
    {
     "name": "stdout",
     "output_type": "stream",
     "text": [
      "+----+----------+------+\n",
      "| Age|Experience|Salary|\n",
      "+----+----------+------+\n",
      "|  31|        10| 70000|\n",
      "|  30|        22| 30050|\n",
      "|  28|        12| 90000|\n",
      "|  25|        31| 60000|\n",
      "|  22|        21| 70000|\n",
      "|  60|        21| 50000|\n",
      "|null|      null| 10000|\n",
      "|  24|        10| 35000|\n",
      "|  23|      null|  null|\n",
      "+----+----------+------+\n",
      "\n"
     ]
    }
   ],
   "source": [
    "#drop columns\n",
    "DF1.drop('Name').show()"
   ]
  },
  {
   "cell_type": "code",
   "execution_count": 8,
   "id": "85850d12",
   "metadata": {},
   "outputs": [
    {
     "name": "stdout",
     "output_type": "stream",
     "text": [
      "+---------+---+----------+------+\n",
      "|     Name|Age|Experience|Salary|\n",
      "+---------+---+----------+------+\n",
      "|    Krish| 31|        10| 70000|\n",
      "|Sudhansgu| 30|        22| 30050|\n",
      "|   Pritom| 28|        12| 90000|\n",
      "|     Juna| 25|        31| 60000|\n",
      "|   Pritty| 22|        21| 70000|\n",
      "|   Sanjoy| 60|        21| 50000|\n",
      "+---------+---+----------+------+\n",
      "\n"
     ]
    }
   ],
   "source": [
    "#drope null value rows\n",
    "#drop all rows which have null value\n",
    "\n",
    "DF1.na.drop().show()"
   ]
  },
  {
   "cell_type": "code",
   "execution_count": 9,
   "id": "de05d6be",
   "metadata": {},
   "outputs": [
    {
     "name": "stdout",
     "output_type": "stream",
     "text": [
      "+---------+---+----------+------+\n",
      "|     Name|Age|Experience|Salary|\n",
      "+---------+---+----------+------+\n",
      "|    Krish| 31|        10| 70000|\n",
      "|Sudhansgu| 30|        22| 30050|\n",
      "|   Pritom| 28|        12| 90000|\n",
      "|     Juna| 25|        31| 60000|\n",
      "|   Pritty| 22|        21| 70000|\n",
      "|   Sanjoy| 60|        21| 50000|\n",
      "+---------+---+----------+------+\n",
      "\n"
     ]
    }
   ],
   "source": [
    "### any==how\n",
    "DF1.na.drop(how='any').show()"
   ]
  },
  {
   "cell_type": "code",
   "execution_count": 10,
   "id": "64873f40",
   "metadata": {},
   "outputs": [
    {
     "name": "stdout",
     "output_type": "stream",
     "text": [
      "+---------+----+----------+------+\n",
      "|     Name| Age|Experience|Salary|\n",
      "+---------+----+----------+------+\n",
      "|    Krish|  31|        10| 70000|\n",
      "|Sudhansgu|  30|        22| 30050|\n",
      "|   Pritom|  28|        12| 90000|\n",
      "|     Juna|  25|        31| 60000|\n",
      "|   Pritty|  22|        21| 70000|\n",
      "|   Sanjoy|  60|        21| 50000|\n",
      "|   Monika|null|      null| 10000|\n",
      "|     null|  24|        10| 35000|\n",
      "|     null|  23|      null|  null|\n",
      "+---------+----+----------+------+\n",
      "\n"
     ]
    }
   ],
   "source": [
    "DF1.na.drop(how='all').show()"
   ]
  },
  {
   "cell_type": "code",
   "execution_count": 12,
   "id": "b992718f",
   "metadata": {},
   "outputs": [
    {
     "name": "stdout",
     "output_type": "stream",
     "text": [
      "+---------+----+----------+------+\n",
      "|     Name| Age|Experience|Salary|\n",
      "+---------+----+----------+------+\n",
      "|    Krish|  31|        10| 70000|\n",
      "|Sudhansgu|  30|        22| 30050|\n",
      "|   Pritom|  28|        12| 90000|\n",
      "|     Juna|  25|        31| 60000|\n",
      "|   Pritty|  22|        21| 70000|\n",
      "|   Sanjoy|  60|        21| 50000|\n",
      "|   Monika|null|      null| 10000|\n",
      "|     null|  24|        10| 35000|\n",
      "+---------+----+----------+------+\n",
      "\n"
     ]
    }
   ],
   "source": [
    "### threshold\n",
    "\n",
    "DF1.na.drop(how='any',thresh=2).show()"
   ]
  },
  {
   "cell_type": "code",
   "execution_count": 13,
   "id": "733a1817",
   "metadata": {},
   "outputs": [
    {
     "name": "stdout",
     "output_type": "stream",
     "text": [
      "+---------+----+----------+------+\n",
      "|     Name| Age|Experience|Salary|\n",
      "+---------+----+----------+------+\n",
      "|    Krish|  31|        10| 70000|\n",
      "|Sudhansgu|  30|        22| 30050|\n",
      "|   Pritom|  28|        12| 90000|\n",
      "|     Juna|  25|        31| 60000|\n",
      "|   Pritty|  22|        21| 70000|\n",
      "|   Sanjoy|  60|        21| 50000|\n",
      "|   Monika|null|      null| 10000|\n",
      "+---------+----+----------+------+\n",
      "\n"
     ]
    }
   ],
   "source": [
    "## Subset  = drop rows if null present in specific col\n",
    "DF1.na.drop(how='any',subset=['Name']).show()"
   ]
  },
  {
   "cell_type": "code",
   "execution_count": 15,
   "id": "b3b273e8",
   "metadata": {},
   "outputs": [
    {
     "name": "stdout",
     "output_type": "stream",
     "text": [
      "+-------------+----+----------+------+\n",
      "|         Name| Age|Experience|Salary|\n",
      "+-------------+----+----------+------+\n",
      "|        Krish|  31|        10| 70000|\n",
      "|    Sudhansgu|  30|        22| 30050|\n",
      "|       Pritom|  28|        12| 90000|\n",
      "|         Juna|  25|        31| 60000|\n",
      "|       Pritty|  22|        21| 70000|\n",
      "|       Sanjoy|  60|        21| 50000|\n",
      "|       Monika|null|      null| 10000|\n",
      "|Missing Value|  24|        10| 35000|\n",
      "|Missing Value|  23|      null|  null|\n",
      "+-------------+----+----------+------+\n",
      "\n"
     ]
    }
   ],
   "source": [
    "DF1.na.fill('Missing Value',['Name','Age']).show()"
   ]
  },
  {
   "cell_type": "code",
   "execution_count": 18,
   "id": "8320109f",
   "metadata": {},
   "outputs": [],
   "source": [
    "#missing value with mean\n",
    "\n",
    "from pyspark.ml.feature import Imputer\n",
    "\n",
    "imputer = Imputer(\n",
    "    inputCols = ['Age','Experience','Salary'],\n",
    "    outputCols = [\"{}_imputed\".format(c) for c in ['Age','Experience','Salary']]\n",
    ").setStrategy(\"mean\")"
   ]
  },
  {
   "cell_type": "code",
   "execution_count": 19,
   "id": "ccc94ef5",
   "metadata": {},
   "outputs": [
    {
     "name": "stdout",
     "output_type": "stream",
     "text": [
      "+---------+----+----------+------+-----------+------------------+--------------+\n",
      "|     Name| Age|Experience|Salary|Age_imputed|Experience_imputed|Salary_imputed|\n",
      "+---------+----+----------+------+-----------+------------------+--------------+\n",
      "|    Krish|  31|        10| 70000|         31|                10|         70000|\n",
      "|Sudhansgu|  30|        22| 30050|         30|                22|         30050|\n",
      "|   Pritom|  28|        12| 90000|         28|                12|         90000|\n",
      "|     Juna|  25|        31| 60000|         25|                31|         60000|\n",
      "|   Pritty|  22|        21| 70000|         22|                21|         70000|\n",
      "|   Sanjoy|  60|        21| 50000|         60|                21|         50000|\n",
      "|   Monika|null|      null| 10000|         30|                18|         10000|\n",
      "|     null|  24|        10| 35000|         24|                10|         35000|\n",
      "|     null|  23|      null|  null|         23|                18|         51881|\n",
      "+---------+----+----------+------+-----------+------------------+--------------+\n",
      "\n"
     ]
    }
   ],
   "source": [
    "imputer.fit(DF1).transform(DF1).show()"
   ]
  },
  {
   "cell_type": "code",
   "execution_count": null,
   "id": "5d43cfb1",
   "metadata": {},
   "outputs": [],
   "source": []
  }
 ],
 "metadata": {
  "kernelspec": {
   "display_name": "Python 3",
   "language": "python",
   "name": "python3"
  },
  "language_info": {
   "codemirror_mode": {
    "name": "ipython",
    "version": 3
   },
   "file_extension": ".py",
   "mimetype": "text/x-python",
   "name": "python",
   "nbconvert_exporter": "python",
   "pygments_lexer": "ipython3",
   "version": "3.8.8"
  }
 },
 "nbformat": 4,
 "nbformat_minor": 5
}
