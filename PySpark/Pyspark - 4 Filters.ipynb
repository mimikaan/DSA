{
 "cells": [
  {
   "cell_type": "code",
   "execution_count": 1,
   "id": "01f8abd4",
   "metadata": {},
   "outputs": [],
   "source": [
    "from pyspark.sql import SparkSession\n",
    "spark = SparkSession.builder.appName('dataframe').getOrCreate()"
   ]
  },
  {
   "cell_type": "code",
   "execution_count": 2,
   "id": "4708546f",
   "metadata": {},
   "outputs": [
    {
     "name": "stdout",
     "output_type": "stream",
     "text": [
      "+--------+---+----------+-------+\n",
      "|    Name|Age|Experience| Salary|\n",
      "+--------+---+----------+-------+\n",
      "|  Pritom| 28|         2| 856000|\n",
      "|  Nilesh| 29|         2| 530000|\n",
      "|  Vishal| 27|         6|1500000|\n",
      "|Debasish| 35|         6|1200000|\n",
      "+--------+---+----------+-------+\n",
      "\n"
     ]
    }
   ],
   "source": [
    "df = spark.read.csv('Filter_Book.csv',header = True,inferSchema = True)\n",
    "df.show()"
   ]
  },
  {
   "cell_type": "markdown",
   "id": "6ea729f4",
   "metadata": {},
   "source": [
    "### Filter operations"
   ]
  },
  {
   "cell_type": "code",
   "execution_count": 3,
   "id": "8206eac0",
   "metadata": {},
   "outputs": [
    {
     "name": "stdout",
     "output_type": "stream",
     "text": [
      "+------+---+----------+------+\n",
      "|  Name|Age|Experience|Salary|\n",
      "+------+---+----------+------+\n",
      "|Nilesh| 29|         2|530000|\n",
      "+------+---+----------+------+\n",
      "\n"
     ]
    }
   ],
   "source": [
    "### salary of people less then 600000\n",
    "\n",
    "df.filter(\"Salary <= 600000\").show()"
   ]
  },
  {
   "cell_type": "code",
   "execution_count": 4,
   "id": "3ca32602",
   "metadata": {},
   "outputs": [
    {
     "name": "stdout",
     "output_type": "stream",
     "text": [
      "+------+---+\n",
      "|  Name|Age|\n",
      "+------+---+\n",
      "|Nilesh| 29|\n",
      "+------+---+\n",
      "\n"
     ]
    }
   ],
   "source": [
    "df.filter(\"Salary <= 600000\").select(['Name','Age']).show()"
   ]
  },
  {
   "cell_type": "code",
   "execution_count": 6,
   "id": "dc6f340e",
   "metadata": {},
   "outputs": [
    {
     "name": "stdout",
     "output_type": "stream",
     "text": [
      "+------+---+----------+------+\n",
      "|  Name|Age|Experience|Salary|\n",
      "+------+---+----------+------+\n",
      "|Nilesh| 29|         2|530000|\n",
      "+------+---+----------+------+\n",
      "\n"
     ]
    }
   ],
   "source": [
    "df.filter(df['Salary']<=600000).show()"
   ]
  },
  {
   "cell_type": "code",
   "execution_count": 7,
   "id": "25c646ac",
   "metadata": {},
   "outputs": [
    {
     "name": "stdout",
     "output_type": "stream",
     "text": [
      "+------+---+----------+------+\n",
      "|  Name|Age|Experience|Salary|\n",
      "+------+---+----------+------+\n",
      "|Pritom| 28|         2|856000|\n",
      "+------+---+----------+------+\n",
      "\n"
     ]
    }
   ],
   "source": [
    "## and operation\n",
    "df.filter((df['Salary']>=600000)&(df['Salary']<=1000000)).show()"
   ]
  },
  {
   "cell_type": "code",
   "execution_count": 8,
   "id": "9a8fad82",
   "metadata": {},
   "outputs": [
    {
     "name": "stdout",
     "output_type": "stream",
     "text": [
      "+--------+---+----------+-------+\n",
      "|    Name|Age|Experience| Salary|\n",
      "+--------+---+----------+-------+\n",
      "|  Pritom| 28|         2| 856000|\n",
      "|  Vishal| 27|         6|1500000|\n",
      "|Debasish| 35|         6|1200000|\n",
      "+--------+---+----------+-------+\n",
      "\n"
     ]
    }
   ],
   "source": [
    "df.filter(~(df['Salary']<=600000)).show()"
   ]
  },
  {
   "cell_type": "code",
   "execution_count": null,
   "id": "a56f6c5b",
   "metadata": {},
   "outputs": [],
   "source": []
  }
 ],
 "metadata": {
  "kernelspec": {
   "display_name": "Python 3",
   "language": "python",
   "name": "python3"
  },
  "language_info": {
   "codemirror_mode": {
    "name": "ipython",
    "version": 3
   },
   "file_extension": ".py",
   "mimetype": "text/x-python",
   "name": "python",
   "nbconvert_exporter": "python",
   "pygments_lexer": "ipython3",
   "version": "3.8.8"
  }
 },
 "nbformat": 4,
 "nbformat_minor": 5
}
