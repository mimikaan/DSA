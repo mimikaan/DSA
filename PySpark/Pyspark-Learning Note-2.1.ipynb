{
 "cells": [
  {
   "cell_type": "code",
   "execution_count": 1,
   "id": "92224915",
   "metadata": {},
   "outputs": [],
   "source": [
    "import pyspark\n",
    "from pyspark.sql import SparkSession\n",
    "spark = SparkSession.builder.appName('Practice').getOrCreate()"
   ]
  },
  {
   "cell_type": "code",
   "execution_count": 2,
   "id": "0cb631a6",
   "metadata": {},
   "outputs": [],
   "source": [
    "#read the dataset\n",
    "\n",
    "df1 = spark.read.option('header','true').csv('Age.csv')"
   ]
  },
  {
   "cell_type": "code",
   "execution_count": 3,
   "id": "64f31412",
   "metadata": {},
   "outputs": [
    {
     "name": "stdout",
     "output_type": "stream",
     "text": [
      "root\n",
      " |-- Name: string (nullable = true)\n",
      " |-- Age: string (nullable = true)\n",
      "\n"
     ]
    }
   ],
   "source": [
    "#check the schema\n",
    "df1.printSchema()"
   ]
  },
  {
   "cell_type": "code",
   "execution_count": 5,
   "id": "6a2bbe02",
   "metadata": {},
   "outputs": [
    {
     "name": "stdout",
     "output_type": "stream",
     "text": [
      "+---------------+---+\n",
      "|           Name|Age|\n",
      "+---------------+---+\n",
      "|Pritom Hazarika| 28|\n",
      "|     Juna Dutta| 25|\n",
      "|Pritty Hazarika| 22|\n",
      "|Sanjoy Hazarika| 60|\n",
      "|Monika Hazarika| 54|\n",
      "+---------------+---+\n",
      "\n"
     ]
    }
   ],
   "source": [
    "df2 = spark.read.csv('Age.csv',header = True,inferSchema = True)\n",
    "df2.show()"
   ]
  },
  {
   "cell_type": "markdown",
   "id": "c674fe30",
   "metadata": {},
   "source": [
    "### Select Cols "
   ]
  },
  {
   "cell_type": "code",
   "execution_count": 6,
   "id": "d04d8633",
   "metadata": {},
   "outputs": [
    {
     "name": "stdout",
     "output_type": "stream",
     "text": [
      "+---------------+\n",
      "|           Name|\n",
      "+---------------+\n",
      "|Pritom Hazarika|\n",
      "|     Juna Dutta|\n",
      "|Pritty Hazarika|\n",
      "|Sanjoy Hazarika|\n",
      "|Monika Hazarika|\n",
      "+---------------+\n",
      "\n"
     ]
    }
   ],
   "source": [
    "df2.select('Name').show()"
   ]
  },
  {
   "cell_type": "code",
   "execution_count": 7,
   "id": "3a06c923",
   "metadata": {},
   "outputs": [
    {
     "name": "stdout",
     "output_type": "stream",
     "text": [
      "+---------------+---+\n",
      "|           Name|Age|\n",
      "+---------------+---+\n",
      "|Pritom Hazarika| 28|\n",
      "|     Juna Dutta| 25|\n",
      "|Pritty Hazarika| 22|\n",
      "|Sanjoy Hazarika| 60|\n",
      "|Monika Hazarika| 54|\n",
      "+---------------+---+\n",
      "\n"
     ]
    }
   ],
   "source": [
    "df2.select('Name','Age').show()"
   ]
  },
  {
   "cell_type": "markdown",
   "id": "37f36a72",
   "metadata": {},
   "source": [
    "### Check Data Types"
   ]
  },
  {
   "cell_type": "code",
   "execution_count": 9,
   "id": "54fc2bff",
   "metadata": {},
   "outputs": [
    {
     "data": {
      "text/plain": [
       "[('Name', 'string'), ('Age', 'int')]"
      ]
     },
     "execution_count": 9,
     "metadata": {},
     "output_type": "execute_result"
    }
   ],
   "source": [
    "df2.dtypes"
   ]
  },
  {
   "cell_type": "code",
   "execution_count": 10,
   "id": "55a2ca6c",
   "metadata": {},
   "outputs": [
    {
     "name": "stdout",
     "output_type": "stream",
     "text": [
      "+-------+---------------+------------------+\n",
      "|summary|           Name|               Age|\n",
      "+-------+---------------+------------------+\n",
      "|  count|              5|                 5|\n",
      "|   mean|           null|              37.8|\n",
      "| stddev|           null|17.782013384316187|\n",
      "|    min|     Juna Dutta|                22|\n",
      "|    max|Sanjoy Hazarika|                60|\n",
      "+-------+---------------+------------------+\n",
      "\n"
     ]
    }
   ],
   "source": [
    "df2.describe().show()"
   ]
  },
  {
   "cell_type": "markdown",
   "id": "57819159",
   "metadata": {},
   "source": [
    "### Adding Cols and Droping Cols"
   ]
  },
  {
   "cell_type": "code",
   "execution_count": 13,
   "id": "22bfe0d8",
   "metadata": {},
   "outputs": [],
   "source": [
    "#Adding col\n",
    "\n",
    "df3 = df2.withColumn('Work Experience',df2['age']-6)"
   ]
  },
  {
   "cell_type": "code",
   "execution_count": 15,
   "id": "01b9d065",
   "metadata": {},
   "outputs": [
    {
     "name": "stdout",
     "output_type": "stream",
     "text": [
      "+---------------+---+---------------+\n",
      "|           Name|Age|Work Experience|\n",
      "+---------------+---+---------------+\n",
      "|Pritom Hazarika| 28|             22|\n",
      "|     Juna Dutta| 25|             19|\n",
      "|Pritty Hazarika| 22|             16|\n",
      "|Sanjoy Hazarika| 60|             54|\n",
      "|Monika Hazarika| 54|             48|\n",
      "+---------------+---+---------------+\n",
      "\n"
     ]
    }
   ],
   "source": [
    "df3.show()"
   ]
  },
  {
   "cell_type": "code",
   "execution_count": 16,
   "id": "0996673c",
   "metadata": {},
   "outputs": [
    {
     "name": "stdout",
     "output_type": "stream",
     "text": [
      "+---------------+---+\n",
      "|           Name|Age|\n",
      "+---------------+---+\n",
      "|Pritom Hazarika| 28|\n",
      "|     Juna Dutta| 25|\n",
      "|Pritty Hazarika| 22|\n",
      "|Sanjoy Hazarika| 60|\n",
      "|Monika Hazarika| 54|\n",
      "+---------------+---+\n",
      "\n"
     ]
    }
   ],
   "source": [
    "#drop col\n",
    "df3 = df3.drop('Work Experience')\n",
    "df3.show()"
   ]
  },
  {
   "cell_type": "code",
   "execution_count": 17,
   "id": "e4332ecf",
   "metadata": {},
   "outputs": [
    {
     "name": "stdout",
     "output_type": "stream",
     "text": [
      "+---------------+---+\n",
      "|      FirstName|Age|\n",
      "+---------------+---+\n",
      "|Pritom Hazarika| 28|\n",
      "|     Juna Dutta| 25|\n",
      "|Pritty Hazarika| 22|\n",
      "|Sanjoy Hazarika| 60|\n",
      "|Monika Hazarika| 54|\n",
      "+---------------+---+\n",
      "\n"
     ]
    }
   ],
   "source": [
    "#rename col\n",
    "\n",
    "df3 = df3.withColumnRenamed('Name','FirstName')\n",
    "df3.show()"
   ]
  },
  {
   "cell_type": "code",
   "execution_count": null,
   "id": "9a5ee6d2",
   "metadata": {},
   "outputs": [],
   "source": []
  }
 ],
 "metadata": {
  "kernelspec": {
   "display_name": "Python 3",
   "language": "python",
   "name": "python3"
  },
  "language_info": {
   "codemirror_mode": {
    "name": "ipython",
    "version": 3
   },
   "file_extension": ".py",
   "mimetype": "text/x-python",
   "name": "python",
   "nbconvert_exporter": "python",
   "pygments_lexer": "ipython3",
   "version": "3.8.8"
  }
 },
 "nbformat": 4,
 "nbformat_minor": 5
}
