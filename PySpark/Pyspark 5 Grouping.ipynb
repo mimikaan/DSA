{
 "cells": [
  {
   "cell_type": "code",
   "execution_count": 1,
   "id": "e829405b",
   "metadata": {},
   "outputs": [],
   "source": [
    "from pyspark.sql import SparkSession\n",
    "spark = SparkSession.builder.appName('dataframe').getOrCreate()"
   ]
  },
  {
   "cell_type": "code",
   "execution_count": 2,
   "id": "d03af13b",
   "metadata": {},
   "outputs": [
    {
     "name": "stdout",
     "output_type": "stream",
     "text": [
      "+--------+------------+------+\n",
      "|    Name|  Depertment|Salary|\n",
      "+--------+------------+------+\n",
      "|  Pritom|Data Science| 10000|\n",
      "|  Pritom|         IOT|  5000|\n",
      "|    Juna|     Bigdata| 60000|\n",
      "|  Pritty|    Accounts|  5000|\n",
      "|    Ravi|Data Science| 10000|\n",
      "|   Vinay|         IOT|  8000|\n",
      "|Rajeswar|     Bigdata|  2000|\n",
      "+--------+------------+------+\n",
      "\n"
     ]
    }
   ],
   "source": [
    "df = spark.read.csv('Grouping.csv',header = True,inferSchema = True)\n",
    "df.show()"
   ]
  },
  {
   "cell_type": "markdown",
   "id": "75b4de5c",
   "metadata": {},
   "source": [
    "### Group by"
   ]
  },
  {
   "cell_type": "code",
   "execution_count": 5,
   "id": "311fe065",
   "metadata": {},
   "outputs": [
    {
     "name": "stdout",
     "output_type": "stream",
     "text": [
      "+------------+-----------+\n",
      "|  Depertment|sum(Salary)|\n",
      "+------------+-----------+\n",
      "|         IOT|      13000|\n",
      "|    Accounts|       5000|\n",
      "|     Bigdata|      62000|\n",
      "|Data Science|      20000|\n",
      "+------------+-----------+\n",
      "\n"
     ]
    }
   ],
   "source": [
    "df.groupBy('Depertment').sum().show()"
   ]
  },
  {
   "cell_type": "code",
   "execution_count": 6,
   "id": "38f82a71",
   "metadata": {},
   "outputs": [
    {
     "name": "stdout",
     "output_type": "stream",
     "text": [
      "+------------+-----------+\n",
      "|  Depertment|min(Salary)|\n",
      "+------------+-----------+\n",
      "|         IOT|       5000|\n",
      "|    Accounts|       5000|\n",
      "|     Bigdata|       2000|\n",
      "|Data Science|      10000|\n",
      "+------------+-----------+\n",
      "\n"
     ]
    }
   ],
   "source": [
    "df.groupBy('Depertment').min().show()"
   ]
  },
  {
   "cell_type": "code",
   "execution_count": 7,
   "id": "62af6a27",
   "metadata": {},
   "outputs": [
    {
     "name": "stdout",
     "output_type": "stream",
     "text": [
      "+------------+-----------+\n",
      "|  Depertment|avg(Salary)|\n",
      "+------------+-----------+\n",
      "|         IOT|     6500.0|\n",
      "|    Accounts|     5000.0|\n",
      "|     Bigdata|    31000.0|\n",
      "|Data Science|    10000.0|\n",
      "+------------+-----------+\n",
      "\n"
     ]
    }
   ],
   "source": [
    "df.groupBy('Depertment').avg().show()"
   ]
  },
  {
   "cell_type": "code",
   "execution_count": null,
   "id": "b46071ee",
   "metadata": {},
   "outputs": [],
   "source": []
  }
 ],
 "metadata": {
  "kernelspec": {
   "display_name": "Python 3",
   "language": "python",
   "name": "python3"
  },
  "language_info": {
   "codemirror_mode": {
    "name": "ipython",
    "version": 3
   },
   "file_extension": ".py",
   "mimetype": "text/x-python",
   "name": "python",
   "nbconvert_exporter": "python",
   "pygments_lexer": "ipython3",
   "version": "3.8.8"
  }
 },
 "nbformat": 4,
 "nbformat_minor": 5
}
